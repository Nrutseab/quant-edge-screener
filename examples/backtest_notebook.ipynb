{
 "cells": [
  {
   "cell_type": "markdown",
   "metadata": {},
   "source": [
    "# Example: Visualize Backtest Results\n",
    "\n",
    "Run `main.py` first, then explore here."
   ]
  },
  {
   "cell_type": "code",
   "execution_count": null,
   "metadata": {},
   "outputs": [],
   "source": [
    "import pandas as pd\n",
    "import matplotlib.pyplot as plt\n",
    "from src.data import get_universe\n",
    "from src.factors import compute_factors\n",
    "import yaml\n",
    "\n",
    "# Load config and compute\n",
    "with open('../config.yaml', 'r') as f:\n",
    "    config = yaml.safe_load(f)\n",
    "prices, funds = get_universe(config['data']['start_date'], config['data']['end_date'])\n",
    "factors = compute_factors(prices, funds, config)\n",
    "\n",
    "# Plot top factors\n",
    "top_factors = factors.nlargest(5, 'score')\n",
    "top_factors[['momentum', 'earnings_yield', 'inv_vol', 'score']].plot(kind='bar')\n",
    "plt.title('Top 5 Holdings by Combined Score')\n",
    "plt.ylabel('Normalized Value')\n",
    "plt.xticks(rotation=45)\n",
    "plt.tight_layout()\n",
    "plt.show()\n",
    "\n",
    "# Cumulative returns example (simplified)\n",
    "rets = prices.pct_change().mean(axis=1).cumsum()\n",
    "rets.plot(title='Avg Daily Returns Cumsum')\n",
    "plt.show()"
   ]
  }
 ],
 "metadata": {
  "kernelspec": {
   "display_name": "Python 3",
   "language": "python",
   "name": "python3"
  },
  "language_info": {
   "codemirror_mode": {
    "name": "ipython",
    "version": 3
   },
   "file_extension": ".py",
   "mimetype": "text/x-python",
   "name": "python",
   "nbconvert_exporter": "python",
   "pygments_lexer": "ipython3",
   "version": "3.9.0"
  }
 },
 "nbformat": 4,
 "nbformat_minor": 4
}
